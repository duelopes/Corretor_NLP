{
  "nbformat": 4,
  "nbformat_minor": 0,
  "metadata": {
    "colab": {
      "provenance": [],
      "authorship_tag": "ABX9TyMm0j212pjacZn8CV3f7+wG",
      "include_colab_link": true
    },
    "kernelspec": {
      "name": "python3",
      "display_name": "Python 3"
    },
    "language_info": {
      "name": "python"
    }
  },
  "cells": [
    {
      "cell_type": "markdown",
      "metadata": {
        "id": "view-in-github",
        "colab_type": "text"
      },
      "source": [
        "<a href=\"https://colab.research.google.com/github/duelopes/Corretor_NLP/blob/main/Corretor_NLP.ipynb\" target=\"_parent\"><img src=\"https://colab.research.google.com/assets/colab-badge.svg\" alt=\"Open In Colab\"/></a>"
      ]
    },
    {
      "cell_type": "markdown",
      "source": [
        "# **Tokenização**\n",
        "\n"
      ],
      "metadata": {
        "id": "H-xgOH94zcxj"
      }
    },
    {
      "cell_type": "code",
      "execution_count": 10,
      "metadata": {
        "colab": {
          "base_uri": "https://localhost:8080/"
        },
        "id": "UGG8Kbk2ifNs",
        "outputId": "727ec2cd-2c7a-463e-c006-a5e8d39464bd"
      },
      "outputs": [
        {
          "output_type": "stream",
          "name": "stdout",
          "text": [
            "\n",
            "\n",
            "\n",
            "imagem \n",
            "\n",
            "Temos a seguinte classe que representa um usuário no nosso sistema:\n",
            "\n",
            "java\n",
            "\n",
            "Para salvar um novo usuário, várias validações são feitas, como por exemplo: Ver se o nome só contém letras, [**o CPF só números**] e ver se o usuário possui no mínimo 18 anos. Veja o método que faz essa validação:\n",
            "\n",
            "java \n",
            "\n",
            "Suponha agora que eu tenha outra classe, a classe `Produto`, que contém um atributo nome e eu quero fazer a mesma validação que fiz para o nome do usuário: Ver se só contém letras. E aí? Vou\n"
          ]
        }
      ],
      "source": [
        "with open('artigos.txt', 'r') as f:\n",
        "  artigos = f.read()\n",
        "\n",
        "print(artigos[:500])"
      ]
    },
    {
      "cell_type": "code",
      "source": [
        "len(artigos)"
      ],
      "metadata": {
        "colab": {
          "base_uri": "https://localhost:8080/"
        },
        "id": "dp6dHgwNw1NJ",
        "outputId": "427a97d0-5ad8-4b16-d5b5-e232e86c1072"
      },
      "execution_count": 11,
      "outputs": [
        {
          "output_type": "execute_result",
          "data": {
            "text/plain": [
              "1020857"
            ]
          },
          "metadata": {},
          "execution_count": 11
        }
      ]
    },
    {
      "cell_type": "code",
      "source": [
        "len('Olá')"
      ],
      "metadata": {
        "colab": {
          "base_uri": "https://localhost:8080/"
        },
        "id": "pmKkhhV7xxE8",
        "outputId": "9e18a798-9a45-450c-b7bb-3bdd5db55334"
      },
      "execution_count": 12,
      "outputs": [
        {
          "output_type": "execute_result",
          "data": {
            "text/plain": [
              "3"
            ]
          },
          "metadata": {},
          "execution_count": 12
        }
      ]
    },
    {
      "cell_type": "code",
      "source": [
        "texto_exemplo = 'Olá, tudo bem?'\n",
        "tokens = texto_exemplo.split()\n",
        "tokens"
      ],
      "metadata": {
        "colab": {
          "base_uri": "https://localhost:8080/"
        },
        "id": "xlyEeCz4yn6n",
        "outputId": "d4a158de-bdc6-4f29-9130-2efbae7849d5"
      },
      "execution_count": 13,
      "outputs": [
        {
          "output_type": "execute_result",
          "data": {
            "text/plain": [
              "['Olá,', 'tudo', 'bem?']"
            ]
          },
          "metadata": {},
          "execution_count": 13
        }
      ]
    },
    {
      "cell_type": "code",
      "source": [
        "print(len(tokens))"
      ],
      "metadata": {
        "colab": {
          "base_uri": "https://localhost:8080/"
        },
        "id": "XCE8CXEhzLRY",
        "outputId": "13a51119-2eb5-4853-afae-2d2678967b31"
      },
      "execution_count": 14,
      "outputs": [
        {
          "output_type": "stream",
          "name": "stdout",
          "text": [
            "3\n"
          ]
        }
      ]
    },
    {
      "cell_type": "markdown",
      "source": [
        "## **Refinando a tokenização**"
      ],
      "metadata": {
        "id": "2IoUk55N0lWH"
      }
    },
    {
      "cell_type": "code",
      "source": [
        "import nltk\n",
        "nltk.download('punkt')\n",
        "palavras_separadas = nltk.tokenize.word_tokenize(texto_exemplo)"
      ],
      "metadata": {
        "colab": {
          "base_uri": "https://localhost:8080/"
        },
        "id": "VMf83ht80qxu",
        "outputId": "a2ae6fc8-8043-4728-b332-31d438a39f15"
      },
      "execution_count": 15,
      "outputs": [
        {
          "output_type": "stream",
          "name": "stderr",
          "text": [
            "[nltk_data] Downloading package punkt to /root/nltk_data...\n",
            "[nltk_data]   Unzipping tokenizers/punkt.zip.\n"
          ]
        }
      ]
    },
    {
      "cell_type": "code",
      "source": [
        "print(palavras_separadas)"
      ],
      "metadata": {
        "colab": {
          "base_uri": "https://localhost:8080/"
        },
        "id": "IMOwO2dX1dVh",
        "outputId": "3c478482-ef27-4963-aa63-b32dad1b86d8"
      },
      "execution_count": 16,
      "outputs": [
        {
          "output_type": "stream",
          "name": "stdout",
          "text": [
            "['Olá', ',', 'tudo', 'bem', '?']\n"
          ]
        }
      ]
    },
    {
      "cell_type": "code",
      "source": [
        "len(palavras_separadas)"
      ],
      "metadata": {
        "colab": {
          "base_uri": "https://localhost:8080/"
        },
        "id": "BIzt7MMN1yCr",
        "outputId": "c5f2df96-62c1-4dbe-f336-44fc9beb2bc8"
      },
      "execution_count": 17,
      "outputs": [
        {
          "output_type": "execute_result",
          "data": {
            "text/plain": [
              "5"
            ]
          },
          "metadata": {},
          "execution_count": 17
        }
      ]
    },
    {
      "cell_type": "code",
      "source": [
        "'palavra'.isalpha()"
      ],
      "metadata": {
        "colab": {
          "base_uri": "https://localhost:8080/"
        },
        "id": "C3KGxR2p2mNa",
        "outputId": "2b004299-fd1a-41e6-e683-74f26a0bb14f"
      },
      "execution_count": 18,
      "outputs": [
        {
          "output_type": "execute_result",
          "data": {
            "text/plain": [
              "True"
            ]
          },
          "metadata": {},
          "execution_count": 18
        }
      ]
    },
    {
      "cell_type": "code",
      "source": [
        "'comvirgula,'.isalpha()"
      ],
      "metadata": {
        "colab": {
          "base_uri": "https://localhost:8080/"
        },
        "id": "lH56zv4t2vl5",
        "outputId": "4bd37769-5e11-4c8c-b174-c6d46679307a"
      },
      "execution_count": 19,
      "outputs": [
        {
          "output_type": "execute_result",
          "data": {
            "text/plain": [
              "False"
            ]
          },
          "metadata": {},
          "execution_count": 19
        }
      ]
    },
    {
      "cell_type": "code",
      "source": [
        "def separa_palavras(lista_tokens):\n",
        "  lista_palavras = []\n",
        "  for token in lista_tokens:\n",
        "    if token.isalpha():\n",
        "      lista_palavras.append(token)    \n",
        "  return lista_palavras\n",
        "\n",
        "separa_palavras(palavras_separadas)"
      ],
      "metadata": {
        "colab": {
          "base_uri": "https://localhost:8080/"
        },
        "id": "-Ps5A4Pw2F2G",
        "outputId": "ed16275b-d10e-4023-87c3-6b657c4d788c"
      },
      "execution_count": 20,
      "outputs": [
        {
          "output_type": "execute_result",
          "data": {
            "text/plain": [
              "['Olá', 'tudo', 'bem']"
            ]
          },
          "metadata": {},
          "execution_count": 20
        }
      ]
    },
    {
      "cell_type": "code",
      "source": [
        "lista_tokens = nltk.tokenize.word_tokenize(artigos)\n",
        "lista_palavras = separa_palavras(lista_tokens)\n",
        "print('Tem {} palavras nessa lista.'.format(len(lista_palavras)))"
      ],
      "metadata": {
        "colab": {
          "base_uri": "https://localhost:8080/"
        },
        "id": "S2GSslMq3U2I",
        "outputId": "53d2caeb-46ea-4f80-f3cb-d6c806f1aac6"
      },
      "execution_count": 21,
      "outputs": [
        {
          "output_type": "stream",
          "name": "stdout",
          "text": [
            "Tem 157697 palavras nessa lista.\n"
          ]
        }
      ]
    },
    {
      "cell_type": "code",
      "source": [
        "print(lista_palavras[:5])"
      ],
      "metadata": {
        "colab": {
          "base_uri": "https://localhost:8080/"
        },
        "id": "KoxBittX5EYi",
        "outputId": "c54510d3-e677-437d-9e3e-19cc89d3f1be"
      },
      "execution_count": 22,
      "outputs": [
        {
          "output_type": "stream",
          "name": "stdout",
          "text": [
            "['imagem', 'Temos', 'a', 'seguinte', 'classe']\n"
          ]
        }
      ]
    },
    {
      "cell_type": "code",
      "source": [
        "def normalizacao(lista_palavras):\n",
        "  lista_normalizada = []\n",
        "  for palavra in lista_palavras:  \n",
        "    lista_normalizada.append(palavra.lower())\n",
        "  return lista_normalizada\n",
        "\n",
        "lista_normalizada = normalizacao(lista_palavras)\n",
        "print(lista_normalizada[:5])"
      ],
      "metadata": {
        "colab": {
          "base_uri": "https://localhost:8080/"
        },
        "id": "d2NUm1KA6-jG",
        "outputId": "ea8bb16d-4d20-4e7f-8fec-62852f010e31"
      },
      "execution_count": 23,
      "outputs": [
        {
          "output_type": "stream",
          "name": "stdout",
          "text": [
            "['imagem', 'temos', 'a', 'seguinte', 'classe']\n"
          ]
        }
      ]
    },
    {
      "cell_type": "code",
      "source": [
        "set([1, 2, 3, 3, 3, 4, 4, 5, 5, 6, 6, 6, 6, 6, 7])"
      ],
      "metadata": {
        "colab": {
          "base_uri": "https://localhost:8080/"
        },
        "id": "R1gPnqms74t1",
        "outputId": "2e56194e-7f9e-4677-c154-2163ec68d6b1"
      },
      "execution_count": 24,
      "outputs": [
        {
          "output_type": "execute_result",
          "data": {
            "text/plain": [
              "{1, 2, 3, 4, 5, 6, 7}"
            ]
          },
          "metadata": {},
          "execution_count": 24
        }
      ]
    },
    {
      "cell_type": "code",
      "source": [
        "type(lista_normalizada)"
      ],
      "metadata": {
        "colab": {
          "base_uri": "https://localhost:8080/"
        },
        "id": "4az3tFIR8db8",
        "outputId": "5af225a2-0731-4d4d-e113-9c77962ef8ac"
      },
      "execution_count": 25,
      "outputs": [
        {
          "output_type": "execute_result",
          "data": {
            "text/plain": [
              "list"
            ]
          },
          "metadata": {},
          "execution_count": 25
        }
      ]
    },
    {
      "cell_type": "code",
      "source": [
        "len(set(lista_normalizada))"
      ],
      "metadata": {
        "colab": {
          "base_uri": "https://localhost:8080/"
        },
        "id": "y4UuSkZ48lgI",
        "outputId": "ce84a913-7c1c-4fa6-9340-77a969e91584"
      },
      "execution_count": 26,
      "outputs": [
        {
          "output_type": "execute_result",
          "data": {
            "text/plain": [
              "11683"
            ]
          },
          "metadata": {},
          "execution_count": 26
        }
      ]
    },
    {
      "cell_type": "code",
      "source": [
        "lista = [1, 2, 3]\n",
        "lista[1:3]"
      ],
      "metadata": {
        "colab": {
          "base_uri": "https://localhost:8080/"
        },
        "id": "vOvZvjddQpes",
        "outputId": "7d290abc-7b1b-4f5a-b94e-ae577d8e5c38"
      },
      "execution_count": 27,
      "outputs": [
        {
          "output_type": "execute_result",
          "data": {
            "text/plain": [
              "[2, 3]"
            ]
          },
          "metadata": {},
          "execution_count": 27
        }
      ]
    },
    {
      "cell_type": "code",
      "source": [
        "lista = 'lgica' #Entendendo o fatiamento da palavra\n",
        "lista[1:3]"
      ],
      "metadata": {
        "colab": {
          "base_uri": "https://localhost:8080/",
          "height": 0
        },
        "id": "hCDD3cbiRPF9",
        "outputId": "a27dd203-5191-4c77-f870-39cea23d393a"
      },
      "execution_count": 28,
      "outputs": [
        {
          "output_type": "execute_result",
          "data": {
            "text/plain": [
              "'gi'"
            ],
            "application/vnd.google.colaboratory.intrinsic+json": {
              "type": "string"
            }
          },
          "metadata": {},
          "execution_count": 28
        }
      ]
    },
    {
      "cell_type": "code",
      "source": [
        "lista = 'lgica'\n",
        "(lista[:1], lista[1:])"
      ],
      "metadata": {
        "colab": {
          "base_uri": "https://localhost:8080/"
        },
        "id": "eY2wrmzbRWzE",
        "outputId": "c8a9ba4d-2e46-41c0-c404-77e26f7b58a8"
      },
      "execution_count": 29,
      "outputs": [
        {
          "output_type": "execute_result",
          "data": {
            "text/plain": [
              "('l', 'gica')"
            ]
          },
          "metadata": {},
          "execution_count": 29
        }
      ]
    },
    {
      "cell_type": "markdown",
      "source": [
        "# **Casos com uma letra a menos**"
      ],
      "metadata": {
        "id": "1WiCjxjzaVRB"
      }
    },
    {
      "cell_type": "code",
      "source": [
        "palavra_exemplo = 'lgica'\n",
        "def gerador_palavras(palavra):\n",
        "  fatias = []\n",
        "  for i in range(len(palavra) + 1):\n",
        "    fatias.append((palavra[:i],palavra[i:]))\n",
        "  print(fatias)\n",
        "\n",
        "  #palavras_geradas = insere_letras(fatias)\n",
        "  #return palavras_geradas\n",
        "\n",
        "gerador_palavras(palavra_exemplo)"
      ],
      "metadata": {
        "id": "RA7auZ1480EW",
        "colab": {
          "base_uri": "https://localhost:8080/"
        },
        "outputId": "dd328772-be8f-463d-e48c-531754381513"
      },
      "execution_count": 30,
      "outputs": [
        {
          "output_type": "stream",
          "name": "stdout",
          "text": [
            "[('', 'lgica'), ('l', 'gica'), ('lg', 'ica'), ('lgi', 'ca'), ('lgic', 'a'), ('lgica', '')]\n"
          ]
        }
      ]
    },
    {
      "cell_type": "code",
      "source": [
        "palavra_exemplo = 'lgica'\n",
        "\n",
        "def insere_letras(fatias):\n",
        "  novas_palavras  = []\n",
        "  letras = 'abcdefghijklmnopqrstuvwxyzàáâãèéêìíîòóôõùúûç'\n",
        "  for E, D in fatias:\n",
        "    for letra in letras:\n",
        "      novas_palavras.append(E + letra + D)\n",
        "  return novas_palavras\n",
        "\n",
        "def gerador_palavras(palavra):\n",
        "  fatias = []\n",
        "  for i in range(len(palavra) + 1):\n",
        "    fatias.append((palavra[:i],palavra[i:]))\n",
        "  palavras_geradas = insere_letras(fatias)\n",
        "  return palavras_geradas\n",
        "\n",
        "palavras_geradas = gerador_palavras(palavra_exemplo)\n",
        "print(palavras_geradas)"
      ],
      "metadata": {
        "id": "-5QohCQfQO0s",
        "colab": {
          "base_uri": "https://localhost:8080/"
        },
        "outputId": "135499f0-5a47-42bc-87fd-884a6864d4ed"
      },
      "execution_count": 31,
      "outputs": [
        {
          "output_type": "stream",
          "name": "stdout",
          "text": [
            "['algica', 'blgica', 'clgica', 'dlgica', 'elgica', 'flgica', 'glgica', 'hlgica', 'ilgica', 'jlgica', 'klgica', 'llgica', 'mlgica', 'nlgica', 'olgica', 'plgica', 'qlgica', 'rlgica', 'slgica', 'tlgica', 'ulgica', 'vlgica', 'wlgica', 'xlgica', 'ylgica', 'zlgica', 'àlgica', 'álgica', 'âlgica', 'ãlgica', 'èlgica', 'élgica', 'êlgica', 'ìlgica', 'ílgica', 'îlgica', 'òlgica', 'ólgica', 'ôlgica', 'õlgica', 'ùlgica', 'úlgica', 'ûlgica', 'çlgica', 'lagica', 'lbgica', 'lcgica', 'ldgica', 'legica', 'lfgica', 'lggica', 'lhgica', 'ligica', 'ljgica', 'lkgica', 'llgica', 'lmgica', 'lngica', 'logica', 'lpgica', 'lqgica', 'lrgica', 'lsgica', 'ltgica', 'lugica', 'lvgica', 'lwgica', 'lxgica', 'lygica', 'lzgica', 'làgica', 'lágica', 'lâgica', 'lãgica', 'lègica', 'légica', 'lêgica', 'lìgica', 'lígica', 'lîgica', 'lògica', 'lógica', 'lôgica', 'lõgica', 'lùgica', 'lúgica', 'lûgica', 'lçgica', 'lgaica', 'lgbica', 'lgcica', 'lgdica', 'lgeica', 'lgfica', 'lggica', 'lghica', 'lgiica', 'lgjica', 'lgkica', 'lglica', 'lgmica', 'lgnica', 'lgoica', 'lgpica', 'lgqica', 'lgrica', 'lgsica', 'lgtica', 'lguica', 'lgvica', 'lgwica', 'lgxica', 'lgyica', 'lgzica', 'lgàica', 'lgáica', 'lgâica', 'lgãica', 'lgèica', 'lgéica', 'lgêica', 'lgìica', 'lgíica', 'lgîica', 'lgòica', 'lgóica', 'lgôica', 'lgõica', 'lgùica', 'lgúica', 'lgûica', 'lgçica', 'lgiaca', 'lgibca', 'lgicca', 'lgidca', 'lgieca', 'lgifca', 'lgigca', 'lgihca', 'lgiica', 'lgijca', 'lgikca', 'lgilca', 'lgimca', 'lginca', 'lgioca', 'lgipca', 'lgiqca', 'lgirca', 'lgisca', 'lgitca', 'lgiuca', 'lgivca', 'lgiwca', 'lgixca', 'lgiyca', 'lgizca', 'lgiàca', 'lgiáca', 'lgiâca', 'lgiãca', 'lgièca', 'lgiéca', 'lgiêca', 'lgiìca', 'lgiíca', 'lgiîca', 'lgiòca', 'lgióca', 'lgiôca', 'lgiõca', 'lgiùca', 'lgiúca', 'lgiûca', 'lgiçca', 'lgicaa', 'lgicba', 'lgicca', 'lgicda', 'lgicea', 'lgicfa', 'lgicga', 'lgicha', 'lgicia', 'lgicja', 'lgicka', 'lgicla', 'lgicma', 'lgicna', 'lgicoa', 'lgicpa', 'lgicqa', 'lgicra', 'lgicsa', 'lgicta', 'lgicua', 'lgicva', 'lgicwa', 'lgicxa', 'lgicya', 'lgicza', 'lgicàa', 'lgicáa', 'lgicâa', 'lgicãa', 'lgicèa', 'lgicéa', 'lgicêa', 'lgicìa', 'lgicía', 'lgicîa', 'lgicòa', 'lgicóa', 'lgicôa', 'lgicõa', 'lgicùa', 'lgicúa', 'lgicûa', 'lgicça', 'lgicaa', 'lgicab', 'lgicac', 'lgicad', 'lgicae', 'lgicaf', 'lgicag', 'lgicah', 'lgicai', 'lgicaj', 'lgicak', 'lgical', 'lgicam', 'lgican', 'lgicao', 'lgicap', 'lgicaq', 'lgicar', 'lgicas', 'lgicat', 'lgicau', 'lgicav', 'lgicaw', 'lgicax', 'lgicay', 'lgicaz', 'lgicaà', 'lgicaá', 'lgicaâ', 'lgicaã', 'lgicaè', 'lgicaé', 'lgicaê', 'lgicaì', 'lgicaí', 'lgicaî', 'lgicaò', 'lgicaó', 'lgicaô', 'lgicaõ', 'lgicaù', 'lgicaú', 'lgicaû', 'lgicaç']\n"
          ]
        }
      ]
    },
    {
      "cell_type": "code",
      "source": [
        "def corretor(palavra):\n",
        "  palavras_geradas = gerador_palavras(palavra)\n",
        "  palavra_correta = max(palavras_geradas, key = probabilidade)\n",
        "  return palavra_correta"
      ],
      "metadata": {
        "id": "YDS_92ZHUldg"
      },
      "execution_count": 32,
      "outputs": []
    },
    {
      "cell_type": "code",
      "source": [
        "frequencia = nltk.FreqDist(lista_normalizada) #Calcula a distribuição das frequência das palavras\n",
        "total_palavras = len(lista_normalizada)\n",
        "frequencia.most_common(10)"
      ],
      "metadata": {
        "colab": {
          "base_uri": "https://localhost:8080/"
        },
        "id": "sP9AzFlbXlBd",
        "outputId": "c1e4f7ff-b727-400e-b81e-5dd8125f3e29"
      },
      "execution_count": 33,
      "outputs": [
        {
          "output_type": "execute_result",
          "data": {
            "text/plain": [
              "[('de', 6062),\n",
              " ('o', 5362),\n",
              " ('que', 4665),\n",
              " ('a', 4344),\n",
              " ('e', 4233),\n",
              " ('para', 3060),\n",
              " ('um', 2506),\n",
              " ('é', 2357),\n",
              " ('uma', 2067),\n",
              " ('com', 1933)]"
            ]
          },
          "metadata": {},
          "execution_count": 33
        }
      ]
    },
    {
      "cell_type": "code",
      "source": [
        "frequencia['lógica']"
      ],
      "metadata": {
        "colab": {
          "base_uri": "https://localhost:8080/"
        },
        "id": "M5lwz0H_YKOc",
        "outputId": "449ab2c2-fb0b-418a-d8b3-ca15016e5ef7"
      },
      "execution_count": 34,
      "outputs": [
        {
          "output_type": "execute_result",
          "data": {
            "text/plain": [
              "52"
            ]
          },
          "metadata": {},
          "execution_count": 34
        }
      ]
    },
    {
      "cell_type": "code",
      "source": [
        "def probabilidade(palavra_gerada):\n",
        "  return frequencia[palavra_gerada]/total_palavras\n",
        "\n",
        "probabilidade('lógica')"
      ],
      "metadata": {
        "colab": {
          "base_uri": "https://localhost:8080/"
        },
        "id": "Jt78ZyqwYSh2",
        "outputId": "20967174-f46f-4610-c37a-ed8fd9c49803"
      },
      "execution_count": 35,
      "outputs": [
        {
          "output_type": "execute_result",
          "data": {
            "text/plain": [
              "0.00032974628559833097"
            ]
          },
          "metadata": {},
          "execution_count": 35
        }
      ]
    },
    {
      "cell_type": "code",
      "source": [
        "corretor(palavra_exemplo)"
      ],
      "metadata": {
        "colab": {
          "base_uri": "https://localhost:8080/",
          "height": 35
        },
        "id": "FHie2c22ZIeq",
        "outputId": "5d989f69-d359-4140-ee84-56f74d463c21"
      },
      "execution_count": 36,
      "outputs": [
        {
          "output_type": "execute_result",
          "data": {
            "text/plain": [
              "'lógica'"
            ],
            "application/vnd.google.colaboratory.intrinsic+json": {
              "type": "string"
            }
          },
          "metadata": {},
          "execution_count": 36
        }
      ]
    },
    {
      "cell_type": "markdown",
      "source": [
        "# **Avaliando a qualidade do corretor**"
      ],
      "metadata": {
        "id": "MWXr0yzUajQh"
      }
    },
    {
      "cell_type": "code",
      "source": [
        "def cria_dados_testes(nome_arquivo):\n",
        "  lista_palavras_teste = []\n",
        "  f = open(nome_arquivo, 'r') #Abre o arquivo\n",
        "  for linha in f:  \n",
        "    correta, errada = linha.split() #O split separa as palavras\n",
        "    lista_palavras_teste.append((correta, errada))\n",
        "  f.close() #Fecha o arquivo\n",
        "  return lista_palavras_teste\n",
        "\n",
        "lista_teste = cria_dados_testes('palavras.txt')\n",
        "lista_teste"
      ],
      "metadata": {
        "colab": {
          "base_uri": "https://localhost:8080/"
        },
        "id": "UIEy_vsoZgGa",
        "outputId": "14733368-9e45-4b70-e8d9-86e021069edf"
      },
      "execution_count": 37,
      "outputs": [
        {
          "output_type": "execute_result",
          "data": {
            "text/plain": [
              "[('podemos', 'pyodemos'),\n",
              " ('esse', 'esje'),\n",
              " ('já', 'jrá'),\n",
              " ('nosso', 'nossov'),\n",
              " ('são', 'sãêo'),\n",
              " ('dos', 'dosa'),\n",
              " ('muito', 'muifo'),\n",
              " ('imagem', 'iômagem'),\n",
              " ('sua', 'ósua'),\n",
              " ('também', 'tambéùm'),\n",
              " ('ele', 'eme'),\n",
              " ('fazer', 'èazer'),\n",
              " ('temos', 'temfs'),\n",
              " ('essa', 'eàssa'),\n",
              " ('quando', 'quaôdo'),\n",
              " ('vamos', 'vamvos'),\n",
              " ('sobre', 'hsobre'),\n",
              " ('java', 'sjava'),\n",
              " ('das', 'daõs'),\n",
              " ('agora', 'agorah'),\n",
              " ('está', 'eòtá'),\n",
              " ('cada', 'céda'),\n",
              " ('mesmo', 'zmesmo'),\n",
              " ('nos', 'noâ'),\n",
              " ('forma', 'fobma'),\n",
              " ('seja', 'sejéa'),\n",
              " ('então', 'enêão'),\n",
              " ('criar', 'èriar'),\n",
              " ('código', 'cóeigo'),\n",
              " ('caso', 'casío'),\n",
              " ('exemplo', 'áexemplo'),\n",
              " ('tem', 'tĩem'),\n",
              " ('usuário', 'usuárôio'),\n",
              " ('dados', 'dfados'),\n",
              " ('python', 'pgthon'),\n",
              " ('nossa', 'nossah'),\n",
              " ('além', 'alémè'),\n",
              " ('assim', 'asõim'),\n",
              " ('ter', 'teb'),\n",
              " ('até', 'atĩ'),\n",
              " ('bem', 'âem'),\n",
              " ('design', 'desigen'),\n",
              " ('trabalho', 'trabalàho'),\n",
              " ('foi', 'foo'),\n",
              " ('apenas', 'apenaũ'),\n",
              " ('empresa', 'empresà'),\n",
              " ('valor', 'valíor'),\n",
              " ('será', 'serr'),\n",
              " ('entre', 'entke'),\n",
              " ('método', 'méqodo'),\n",
              " ('precisamos', 'precisamops'),\n",
              " ('ainda', 'ainàa'),\n",
              " ('vai', 'van'),\n",
              " ('conteúdo', 'ûconteúdo'),\n",
              " ('seus', 'çeus'),\n",
              " ('eu', 'eû'),\n",
              " ('todos', 'todtos'),\n",
              " ('tempo', 'temeo'),\n",
              " ('sempre', 'semre'),\n",
              " ('qual', 'quakl'),\n",
              " ('ela', 'elaá'),\n",
              " ('só', 'síó'),\n",
              " ('utilizar', 'utiqizar'),\n",
              " ('projeto', 'prhojeto'),\n",
              " ('site', 'siàe'),\n",
              " ('sem', 'seém'),\n",
              " ('pelo', 'peln'),\n",
              " ('alura', 'aléra'),\n",
              " ('dia', 'tdia'),\n",
              " ('tudo', 'tuúo'),\n",
              " ('podemos', 'kpodemos'),\n",
              " ('esse', 'eẽsse'),\n",
              " ('já', 'jé'),\n",
              " ('nosso', 'nçosso'),\n",
              " ('são', 'sãô'),\n",
              " ('dos', 'odos'),\n",
              " ('muito', 'tuito'),\n",
              " ('imagem', 'imõgem'),\n",
              " ('sua', 'siua'),\n",
              " ('também', 'tamvbém'),\n",
              " ('ele', 'elpe'),\n",
              " ('fazer', 'façzer'),\n",
              " ('temos', 'teos'),\n",
              " ('essa', 'eũsa'),\n",
              " ('quando', 'quaìdo'),\n",
              " ('vamos', 'vjmos'),\n",
              " ('sobre', 'sxobre'),\n",
              " ('java', 'jkva'),\n",
              " ('das', 'dms'),\n",
              " ('agora', 'agtora'),\n",
              " ('está', 'esútá'),\n",
              " ('cada', 'cava'),\n",
              " ('mesmo', 'medmo'),\n",
              " ('nos', 'ános'),\n",
              " ('forma', 'forûa'),\n",
              " ('seja', 'smeja'),\n",
              " ('então', 'enjtão'),\n",
              " ('criar', 'criôar'),\n",
              " ('código', 'cóàigo'),\n",
              " ('caso', 'èaso'),\n",
              " ('exemplo', 'exbemplo'),\n",
              " ('tem', 'túem'),\n",
              " ('usuário', 'usuárin'),\n",
              " ('dados', 'daáos'),\n",
              " ('python', 'pythoçn'),\n",
              " ('nossa', 'nossk'),\n",
              " ('além', 'âlém'),\n",
              " ('assim', 'aóssim'),\n",
              " ('ter', 'tãer'),\n",
              " ('até', 'vté'),\n",
              " ('bem', 'búm'),\n",
              " ('design', 'íesign'),\n",
              " ('trabalho', 'trabèalho'),\n",
              " ('foi', 'kfoi'),\n",
              " ('apenas', 'aapenas'),\n",
              " ('empresa', 'pmpresa'),\n",
              " ('valor', 'valoqr'),\n",
              " ('será', 'sçerá'),\n",
              " ('entre', 'entró'),\n",
              " ('método', 'nétodo'),\n",
              " ('precisamos', 'prefcisamos'),\n",
              " ('ainda', 'sainda'),\n",
              " ('vai', 'uai'),\n",
              " ('conteúdo', 'cĩonteúdo'),\n",
              " ('seus', 'sâus'),\n",
              " ('eu', 'ìeu'),\n",
              " ('todos', 'todás'),\n",
              " ('tempo', 'utempo'),\n",
              " ('sempre', 'sempce'),\n",
              " ('qual', 'fual'),\n",
              " ('ela', 'elal'),\n",
              " ('só', 'skó'),\n",
              " ('utilizar', 'utilĩzar'),\n",
              " ('projeto', 'proójeto'),\n",
              " ('site', 'isite'),\n",
              " ('sem', 'secm'),\n",
              " ('pelo', 'pẽlo'),\n",
              " ('alura', 'aluéa'),\n",
              " ('dia', 'dil'),\n",
              " ('tudo', 'tudy'),\n",
              " ('ela', 'qelay'),\n",
              " ('só', 'sód'),\n",
              " ('utilizar', 'dtilizacr'),\n",
              " ('projeto', 'bprojõto'),\n",
              " ('site', 'ysiteo'),\n",
              " ('sem', 'sõêm'),\n",
              " ('pelo', 'peàli'),\n",
              " ('alura', 'asuraó'),\n",
              " ('dia', 'deiìa'),\n",
              " ('tudo', 'tuĩdoì'),\n",
              " ('ela', 'eúaa'),\n",
              " ('só', 'ró'),\n",
              " ('utilizar', 'utilizẽaçr'),\n",
              " ('projeto', 'prêjetó'),\n",
              " ('site', 'sqiqte'),\n",
              " ('sem', 'sũexm'),\n",
              " ('pelo', 'pçlxo'),\n",
              " ('alura', 'uluraa'),\n",
              " ('dia', 'dĩaz'),\n",
              " ('tudo', 'kzudo'),\n",
              " ('corretor', 'correptor'),\n",
              " ('tática', 'trtica'),\n",
              " ('empoderamento', 'ewpoderamento'),\n",
              " ('linux', 'lifux'),\n",
              " ('cachorro', 'cachoçro'),\n",
              " ('gato', 'îgato'),\n",
              " ('cavalo', 'cakvalo'),\n",
              " ('relógio', 'relógiuo'),\n",
              " ('canela', 'canelac'),\n",
              " ('tênis', 'tênisy'),\n",
              " ('ansiosa', 'anciosa'),\n",
              " ('ansiosa', 'ancciosa'),\n",
              " ('ansiosa', 'ansioa'),\n",
              " ('empoderamento', 'empoderamento'),\n",
              " ('asterisco', 'asterístico'),\n",
              " ('gratuito', 'gratuíto'),\n",
              " ('entretido', 'entertido'),\n",
              " ('ritmo', 'ritimo'),\n",
              " ('idiota', 'indiota'),\n",
              " ('tomara', 'tomare'),\n",
              " ('seja', 'seje'),\n",
              " ('prevalecer', 'provalecer'),\n",
              " ('esteja', 'esteje'),\n",
              " ('mendigo', 'mindigo'),\n",
              " ('cérebro', 'célebro'),\n",
              " ('perturbar', 'pertubar')]"
            ]
          },
          "metadata": {},
          "execution_count": 37
        }
      ]
    },
    {
      "cell_type": "code",
      "source": [
        "def avaliador(testes):\n",
        "  numero_palavras = len(testes)\n",
        "  acertou = 0\n",
        "  for correta, errada in testes:\n",
        "    palavra_corrigida = corretor(errada)\n",
        "    if palavra_corrigida == correta:\n",
        "      acertou += 1 \n",
        "  taxa_acerto = acertou*100/numero_palavras\n",
        "  print(f'{round(taxa_acerto, 2)}% de {numero_palavras} palavras')\n",
        "\n",
        "avaliador(lista_teste)"
      ],
      "metadata": {
        "colab": {
          "base_uri": "https://localhost:8080/"
        },
        "id": "2L_x3Z1cciHU",
        "outputId": "4d95a3a0-4d11-42fc-d28f-bbe11845f92a"
      },
      "execution_count": 38,
      "outputs": [
        {
          "output_type": "stream",
          "name": "stdout",
          "text": [
            "1.08% de 186 palavras\n"
          ]
        }
      ]
    },
    {
      "cell_type": "markdown",
      "source": [
        "# **Casos com letra a mais**"
      ],
      "metadata": {
        "id": "eMyKZQLZfbGf"
      }
    },
    {
      "cell_type": "code",
      "source": [
        "def deletando_caracteres(fatias):\n",
        "  novas_palavras  = []\n",
        "  for E, D in fatias:\n",
        "    novas_palavras.append(E + D[1:]) #Soma o lado esquerdo com o direito deletando um index do lado direito\n",
        "  return novas_palavras"
      ],
      "metadata": {
        "id": "ZInxA58Ld_Ts"
      },
      "execution_count": 39,
      "outputs": []
    },
    {
      "cell_type": "markdown",
      "source": [
        "**Adaptando o gerador_palavras para essa nova função**"
      ],
      "metadata": {
        "id": "WHZHIwgejFxG"
      }
    },
    {
      "cell_type": "code",
      "source": [
        "def gerador_palavras(palavra):\n",
        "  fatias = []\n",
        "  for i in range(len(palavra) + 1):\n",
        "    fatias.append((palavra[:i],palavra[i:]))\n",
        "  palavras_geradas = insere_letras(fatias)\n",
        "  palavras_geradas += deletando_caracteres(fatias) #concatenando as listas\n",
        "  return palavras_geradas"
      ],
      "metadata": {
        "id": "frproqozh-EU"
      },
      "execution_count": 40,
      "outputs": []
    },
    {
      "cell_type": "code",
      "source": [
        "palavra_exemplo = 'lóigica'\n",
        "palavras_geradas = gerador_palavras(palavra_exemplo)\n",
        "print(palavras_geradas)"
      ],
      "metadata": {
        "colab": {
          "base_uri": "https://localhost:8080/"
        },
        "id": "SZndzdfric8M",
        "outputId": "fa9b08a7-019e-4397-ea86-ef5bfce43f53"
      },
      "execution_count": 41,
      "outputs": [
        {
          "output_type": "stream",
          "name": "stdout",
          "text": [
            "['alóigica', 'blóigica', 'clóigica', 'dlóigica', 'elóigica', 'flóigica', 'glóigica', 'hlóigica', 'ilóigica', 'jlóigica', 'klóigica', 'llóigica', 'mlóigica', 'nlóigica', 'olóigica', 'plóigica', 'qlóigica', 'rlóigica', 'slóigica', 'tlóigica', 'ulóigica', 'vlóigica', 'wlóigica', 'xlóigica', 'ylóigica', 'zlóigica', 'àlóigica', 'álóigica', 'âlóigica', 'ãlóigica', 'èlóigica', 'élóigica', 'êlóigica', 'ìlóigica', 'ílóigica', 'îlóigica', 'òlóigica', 'ólóigica', 'ôlóigica', 'õlóigica', 'ùlóigica', 'úlóigica', 'ûlóigica', 'çlóigica', 'laóigica', 'lbóigica', 'lcóigica', 'ldóigica', 'leóigica', 'lfóigica', 'lgóigica', 'lhóigica', 'lióigica', 'ljóigica', 'lkóigica', 'llóigica', 'lmóigica', 'lnóigica', 'loóigica', 'lpóigica', 'lqóigica', 'lróigica', 'lsóigica', 'ltóigica', 'luóigica', 'lvóigica', 'lwóigica', 'lxóigica', 'lyóigica', 'lzóigica', 'làóigica', 'láóigica', 'lâóigica', 'lãóigica', 'lèóigica', 'léóigica', 'lêóigica', 'lìóigica', 'líóigica', 'lîóigica', 'lòóigica', 'lóóigica', 'lôóigica', 'lõóigica', 'lùóigica', 'lúóigica', 'lûóigica', 'lçóigica', 'lóaigica', 'lóbigica', 'lócigica', 'lódigica', 'lóeigica', 'lófigica', 'lógigica', 'lóhigica', 'lóiigica', 'lójigica', 'lókigica', 'lóligica', 'lómigica', 'lónigica', 'lóoigica', 'lópigica', 'lóqigica', 'lórigica', 'lósigica', 'lótigica', 'lóuigica', 'lóvigica', 'lówigica', 'lóxigica', 'lóyigica', 'lózigica', 'lóàigica', 'lóáigica', 'lóâigica', 'lóãigica', 'lóèigica', 'lóéigica', 'lóêigica', 'lóìigica', 'lóíigica', 'lóîigica', 'lóòigica', 'lóóigica', 'lóôigica', 'lóõigica', 'lóùigica', 'lóúigica', 'lóûigica', 'lóçigica', 'lóiagica', 'lóibgica', 'lóicgica', 'lóidgica', 'lóiegica', 'lóifgica', 'lóiggica', 'lóihgica', 'lóiigica', 'lóijgica', 'lóikgica', 'lóilgica', 'lóimgica', 'lóingica', 'lóiogica', 'lóipgica', 'lóiqgica', 'lóirgica', 'lóisgica', 'lóitgica', 'lóiugica', 'lóivgica', 'lóiwgica', 'lóixgica', 'lóiygica', 'lóizgica', 'lóiàgica', 'lóiágica', 'lóiâgica', 'lóiãgica', 'lóiègica', 'lóiégica', 'lóiêgica', 'lóiìgica', 'lóiígica', 'lóiîgica', 'lóiògica', 'lóiógica', 'lóiôgica', 'lóiõgica', 'lóiùgica', 'lóiúgica', 'lóiûgica', 'lóiçgica', 'lóigaica', 'lóigbica', 'lóigcica', 'lóigdica', 'lóigeica', 'lóigfica', 'lóiggica', 'lóighica', 'lóigiica', 'lóigjica', 'lóigkica', 'lóiglica', 'lóigmica', 'lóignica', 'lóigoica', 'lóigpica', 'lóigqica', 'lóigrica', 'lóigsica', 'lóigtica', 'lóiguica', 'lóigvica', 'lóigwica', 'lóigxica', 'lóigyica', 'lóigzica', 'lóigàica', 'lóigáica', 'lóigâica', 'lóigãica', 'lóigèica', 'lóigéica', 'lóigêica', 'lóigìica', 'lóigíica', 'lóigîica', 'lóigòica', 'lóigóica', 'lóigôica', 'lóigõica', 'lóigùica', 'lóigúica', 'lóigûica', 'lóigçica', 'lóigiaca', 'lóigibca', 'lóigicca', 'lóigidca', 'lóigieca', 'lóigifca', 'lóigigca', 'lóigihca', 'lóigiica', 'lóigijca', 'lóigikca', 'lóigilca', 'lóigimca', 'lóiginca', 'lóigioca', 'lóigipca', 'lóigiqca', 'lóigirca', 'lóigisca', 'lóigitca', 'lóigiuca', 'lóigivca', 'lóigiwca', 'lóigixca', 'lóigiyca', 'lóigizca', 'lóigiàca', 'lóigiáca', 'lóigiâca', 'lóigiãca', 'lóigièca', 'lóigiéca', 'lóigiêca', 'lóigiìca', 'lóigiíca', 'lóigiîca', 'lóigiòca', 'lóigióca', 'lóigiôca', 'lóigiõca', 'lóigiùca', 'lóigiúca', 'lóigiûca', 'lóigiçca', 'lóigicaa', 'lóigicba', 'lóigicca', 'lóigicda', 'lóigicea', 'lóigicfa', 'lóigicga', 'lóigicha', 'lóigicia', 'lóigicja', 'lóigicka', 'lóigicla', 'lóigicma', 'lóigicna', 'lóigicoa', 'lóigicpa', 'lóigicqa', 'lóigicra', 'lóigicsa', 'lóigicta', 'lóigicua', 'lóigicva', 'lóigicwa', 'lóigicxa', 'lóigicya', 'lóigicza', 'lóigicàa', 'lóigicáa', 'lóigicâa', 'lóigicãa', 'lóigicèa', 'lóigicéa', 'lóigicêa', 'lóigicìa', 'lóigicía', 'lóigicîa', 'lóigicòa', 'lóigicóa', 'lóigicôa', 'lóigicõa', 'lóigicùa', 'lóigicúa', 'lóigicûa', 'lóigicça', 'lóigicaa', 'lóigicab', 'lóigicac', 'lóigicad', 'lóigicae', 'lóigicaf', 'lóigicag', 'lóigicah', 'lóigicai', 'lóigicaj', 'lóigicak', 'lóigical', 'lóigicam', 'lóigican', 'lóigicao', 'lóigicap', 'lóigicaq', 'lóigicar', 'lóigicas', 'lóigicat', 'lóigicau', 'lóigicav', 'lóigicaw', 'lóigicax', 'lóigicay', 'lóigicaz', 'lóigicaà', 'lóigicaá', 'lóigicaâ', 'lóigicaã', 'lóigicaè', 'lóigicaé', 'lóigicaê', 'lóigicaì', 'lóigicaí', 'lóigicaî', 'lóigicaò', 'lóigicaó', 'lóigicaô', 'lóigicaõ', 'lóigicaù', 'lóigicaú', 'lóigicaû', 'lóigicaç', 'óigica', 'ligica', 'lógica', 'lóiica', 'lóigca', 'lóigia', 'lóigic', 'lóigica']\n"
          ]
        }
      ]
    },
    {
      "cell_type": "markdown",
      "source": [
        "**Avaliando com a nova função**"
      ],
      "metadata": {
        "id": "bvp4DJ9qkGFy"
      }
    },
    {
      "cell_type": "code",
      "source": [
        "avaliador(lista_teste)"
      ],
      "metadata": {
        "colab": {
          "base_uri": "https://localhost:8080/"
        },
        "id": "fCYq0il-jlBY",
        "outputId": "e2759e41-5de9-4744-83bb-87e8642f89cd"
      },
      "execution_count": 42,
      "outputs": [
        {
          "output_type": "stream",
          "name": "stdout",
          "text": [
            "41.4% de 186 palavras\n"
          ]
        }
      ]
    },
    {
      "cell_type": "markdown",
      "source": [
        "# **Casos que precisam de trocas de letras**"
      ],
      "metadata": {
        "id": "pHFxvl9zktqO"
      }
    },
    {
      "cell_type": "code",
      "source": [
        "def troca_letra(fatias):\n",
        "  novas_palavras = []\n",
        "  letras = 'abcdefghijklmnopqrstuvwxyzàáâãèéêìíîòóôõùúûç'\n",
        "  for E, D in fatias:\n",
        "    for letra in letras:\n",
        "      novas_palavras.append(E + letra + D[1:])        \n",
        "  return novas_palavras"
      ],
      "metadata": {
        "id": "qrHu6T7dj_y2"
      },
      "execution_count": 53,
      "outputs": []
    },
    {
      "cell_type": "code",
      "source": [
        "def gerador_palavras(palavra):\n",
        "  fatias = []\n",
        "  for i in range(len(palavra) + 1):\n",
        "    fatias.append((palavra[:i],palavra[i:]))\n",
        "  palavras_geradas = insere_letras(fatias)\n",
        "  palavras_geradas += deletando_caracteres(fatias) #concatenando as listas\n",
        "  palavras_geradas += troca_letra(fatias) \n",
        "  return palavras_geradas"
      ],
      "metadata": {
        "id": "yVVmKazTt_dt"
      },
      "execution_count": 54,
      "outputs": []
    },
    {
      "cell_type": "code",
      "source": [
        "palavra_exemplo = 'ligica'\n",
        "palavras_geradas = gerador_palavras(palavra_exemplo)\n",
        "print(palavras_geradas)"
      ],
      "metadata": {
        "colab": {
          "base_uri": "https://localhost:8080/"
        },
        "id": "7TPrdiQKu-Hv",
        "outputId": "74b829fe-3b07-4b66-f827-709b228ef6e5"
      },
      "execution_count": 55,
      "outputs": [
        {
          "output_type": "stream",
          "name": "stdout",
          "text": [
            "['aligica', 'bligica', 'cligica', 'dligica', 'eligica', 'fligica', 'gligica', 'hligica', 'iligica', 'jligica', 'kligica', 'lligica', 'mligica', 'nligica', 'oligica', 'pligica', 'qligica', 'rligica', 'sligica', 'tligica', 'uligica', 'vligica', 'wligica', 'xligica', 'yligica', 'zligica', 'àligica', 'áligica', 'âligica', 'ãligica', 'èligica', 'éligica', 'êligica', 'ìligica', 'íligica', 'îligica', 'òligica', 'óligica', 'ôligica', 'õligica', 'ùligica', 'úligica', 'ûligica', 'çligica', 'laigica', 'lbigica', 'lcigica', 'ldigica', 'leigica', 'lfigica', 'lgigica', 'lhigica', 'liigica', 'ljigica', 'lkigica', 'lligica', 'lmigica', 'lnigica', 'loigica', 'lpigica', 'lqigica', 'lrigica', 'lsigica', 'ltigica', 'luigica', 'lvigica', 'lwigica', 'lxigica', 'lyigica', 'lzigica', 'làigica', 'láigica', 'lâigica', 'lãigica', 'lèigica', 'léigica', 'lêigica', 'lìigica', 'líigica', 'lîigica', 'lòigica', 'lóigica', 'lôigica', 'lõigica', 'lùigica', 'lúigica', 'lûigica', 'lçigica', 'liagica', 'libgica', 'licgica', 'lidgica', 'liegica', 'lifgica', 'liggica', 'lihgica', 'liigica', 'lijgica', 'likgica', 'lilgica', 'limgica', 'lingica', 'liogica', 'lipgica', 'liqgica', 'lirgica', 'lisgica', 'litgica', 'liugica', 'livgica', 'liwgica', 'lixgica', 'liygica', 'lizgica', 'liàgica', 'liágica', 'liâgica', 'liãgica', 'liègica', 'liégica', 'liêgica', 'liìgica', 'liígica', 'liîgica', 'liògica', 'liógica', 'liôgica', 'liõgica', 'liùgica', 'liúgica', 'liûgica', 'liçgica', 'ligaica', 'ligbica', 'ligcica', 'ligdica', 'ligeica', 'ligfica', 'liggica', 'lighica', 'ligiica', 'ligjica', 'ligkica', 'liglica', 'ligmica', 'lignica', 'ligoica', 'ligpica', 'ligqica', 'ligrica', 'ligsica', 'ligtica', 'liguica', 'ligvica', 'ligwica', 'ligxica', 'ligyica', 'ligzica', 'ligàica', 'ligáica', 'ligâica', 'ligãica', 'ligèica', 'ligéica', 'ligêica', 'ligìica', 'ligíica', 'ligîica', 'ligòica', 'ligóica', 'ligôica', 'ligõica', 'ligùica', 'ligúica', 'ligûica', 'ligçica', 'ligiaca', 'ligibca', 'ligicca', 'ligidca', 'ligieca', 'ligifca', 'ligigca', 'ligihca', 'ligiica', 'ligijca', 'ligikca', 'ligilca', 'ligimca', 'liginca', 'ligioca', 'ligipca', 'ligiqca', 'ligirca', 'ligisca', 'ligitca', 'ligiuca', 'ligivca', 'ligiwca', 'ligixca', 'ligiyca', 'ligizca', 'ligiàca', 'ligiáca', 'ligiâca', 'ligiãca', 'ligièca', 'ligiéca', 'ligiêca', 'ligiìca', 'ligiíca', 'ligiîca', 'ligiòca', 'ligióca', 'ligiôca', 'ligiõca', 'ligiùca', 'ligiúca', 'ligiûca', 'ligiçca', 'ligicaa', 'ligicba', 'ligicca', 'ligicda', 'ligicea', 'ligicfa', 'ligicga', 'ligicha', 'ligicia', 'ligicja', 'ligicka', 'ligicla', 'ligicma', 'ligicna', 'ligicoa', 'ligicpa', 'ligicqa', 'ligicra', 'ligicsa', 'ligicta', 'ligicua', 'ligicva', 'ligicwa', 'ligicxa', 'ligicya', 'ligicza', 'ligicàa', 'ligicáa', 'ligicâa', 'ligicãa', 'ligicèa', 'ligicéa', 'ligicêa', 'ligicìa', 'ligicía', 'ligicîa', 'ligicòa', 'ligicóa', 'ligicôa', 'ligicõa', 'ligicùa', 'ligicúa', 'ligicûa', 'ligicça', 'ligicaa', 'ligicab', 'ligicac', 'ligicad', 'ligicae', 'ligicaf', 'ligicag', 'ligicah', 'ligicai', 'ligicaj', 'ligicak', 'ligical', 'ligicam', 'ligican', 'ligicao', 'ligicap', 'ligicaq', 'ligicar', 'ligicas', 'ligicat', 'ligicau', 'ligicav', 'ligicaw', 'ligicax', 'ligicay', 'ligicaz', 'ligicaà', 'ligicaá', 'ligicaâ', 'ligicaã', 'ligicaè', 'ligicaé', 'ligicaê', 'ligicaì', 'ligicaí', 'ligicaî', 'ligicaò', 'ligicaó', 'ligicaô', 'ligicaõ', 'ligicaù', 'ligicaú', 'ligicaû', 'ligicaç', 'igica', 'lgica', 'liica', 'ligca', 'ligia', 'ligic', 'ligica', 'aigica', 'bigica', 'cigica', 'digica', 'eigica', 'figica', 'gigica', 'higica', 'iigica', 'jigica', 'kigica', 'ligica', 'migica', 'nigica', 'oigica', 'pigica', 'qigica', 'rigica', 'sigica', 'tigica', 'uigica', 'vigica', 'wigica', 'xigica', 'yigica', 'zigica', 'àigica', 'áigica', 'âigica', 'ãigica', 'èigica', 'éigica', 'êigica', 'ìigica', 'íigica', 'îigica', 'òigica', 'óigica', 'ôigica', 'õigica', 'ùigica', 'úigica', 'ûigica', 'çigica', 'lagica', 'lbgica', 'lcgica', 'ldgica', 'legica', 'lfgica', 'lggica', 'lhgica', 'ligica', 'ljgica', 'lkgica', 'llgica', 'lmgica', 'lngica', 'logica', 'lpgica', 'lqgica', 'lrgica', 'lsgica', 'ltgica', 'lugica', 'lvgica', 'lwgica', 'lxgica', 'lygica', 'lzgica', 'làgica', 'lágica', 'lâgica', 'lãgica', 'lègica', 'légica', 'lêgica', 'lìgica', 'lígica', 'lîgica', 'lògica', 'lógica', 'lôgica', 'lõgica', 'lùgica', 'lúgica', 'lûgica', 'lçgica', 'liaica', 'libica', 'licica', 'lidica', 'lieica', 'lifica', 'ligica', 'lihica', 'liiica', 'lijica', 'likica', 'lilica', 'limica', 'linica', 'lioica', 'lipica', 'liqica', 'lirica', 'lisica', 'litica', 'liuica', 'livica', 'liwica', 'lixica', 'liyica', 'lizica', 'liàica', 'liáica', 'liâica', 'liãica', 'lièica', 'liéica', 'liêica', 'liìica', 'liíica', 'liîica', 'liòica', 'lióica', 'liôica', 'liõica', 'liùica', 'liúica', 'liûica', 'liçica', 'ligaca', 'ligbca', 'ligcca', 'ligdca', 'ligeca', 'ligfca', 'liggca', 'lighca', 'ligica', 'ligjca', 'ligkca', 'liglca', 'ligmca', 'lignca', 'ligoca', 'ligpca', 'ligqca', 'ligrca', 'ligsca', 'ligtca', 'liguca', 'ligvca', 'ligwca', 'ligxca', 'ligyca', 'ligzca', 'ligàca', 'ligáca', 'ligâca', 'ligãca', 'ligèca', 'ligéca', 'ligêca', 'ligìca', 'ligíca', 'ligîca', 'ligòca', 'ligóca', 'ligôca', 'ligõca', 'ligùca', 'ligúca', 'ligûca', 'ligçca', 'ligiaa', 'ligiba', 'ligica', 'ligida', 'ligiea', 'ligifa', 'ligiga', 'ligiha', 'ligiia', 'ligija', 'ligika', 'ligila', 'ligima', 'ligina', 'ligioa', 'ligipa', 'ligiqa', 'ligira', 'ligisa', 'ligita', 'ligiua', 'ligiva', 'ligiwa', 'ligixa', 'ligiya', 'ligiza', 'ligiàa', 'ligiáa', 'ligiâa', 'ligiãa', 'ligièa', 'ligiéa', 'ligiêa', 'ligiìa', 'ligiía', 'ligiîa', 'ligiòa', 'ligióa', 'ligiôa', 'ligiõa', 'ligiùa', 'ligiúa', 'ligiûa', 'ligiça', 'ligica', 'ligicb', 'ligicc', 'ligicd', 'ligice', 'ligicf', 'ligicg', 'ligich', 'ligici', 'ligicj', 'ligick', 'ligicl', 'ligicm', 'ligicn', 'ligico', 'ligicp', 'ligicq', 'ligicr', 'ligics', 'ligict', 'ligicu', 'ligicv', 'ligicw', 'ligicx', 'ligicy', 'ligicz', 'ligicà', 'ligicá', 'ligicâ', 'ligicã', 'ligicè', 'ligicé', 'ligicê', 'ligicì', 'ligicí', 'ligicî', 'ligicò', 'ligicó', 'ligicô', 'ligicõ', 'ligicù', 'ligicú', 'ligicû', 'ligicç', 'ligicaa', 'ligicab', 'ligicac', 'ligicad', 'ligicae', 'ligicaf', 'ligicag', 'ligicah', 'ligicai', 'ligicaj', 'ligicak', 'ligical', 'ligicam', 'ligican', 'ligicao', 'ligicap', 'ligicaq', 'ligicar', 'ligicas', 'ligicat', 'ligicau', 'ligicav', 'ligicaw', 'ligicax', 'ligicay', 'ligicaz', 'ligicaà', 'ligicaá', 'ligicaâ', 'ligicaã', 'ligicaè', 'ligicaé', 'ligicaê', 'ligicaì', 'ligicaí', 'ligicaî', 'ligicaò', 'ligicaó', 'ligicaô', 'ligicaõ', 'ligicaù', 'ligicaú', 'ligicaû', 'ligicaç']\n"
          ]
        }
      ]
    },
    {
      "cell_type": "code",
      "source": [
        "corretor('ligica')"
      ],
      "metadata": {
        "colab": {
          "base_uri": "https://localhost:8080/",
          "height": 35
        },
        "id": "WQ54UyRpvFuH",
        "outputId": "8529262c-ebeb-41c5-d51f-b2544e3af010"
      },
      "execution_count": 56,
      "outputs": [
        {
          "output_type": "execute_result",
          "data": {
            "text/plain": [
              "'lógica'"
            ],
            "application/vnd.google.colaboratory.intrinsic+json": {
              "type": "string"
            }
          },
          "metadata": {},
          "execution_count": 56
        }
      ]
    },
    {
      "cell_type": "code",
      "source": [
        "avaliador(lista_teste)"
      ],
      "metadata": {
        "colab": {
          "base_uri": "https://localhost:8080/"
        },
        "id": "fVC-in46vWXM",
        "outputId": "2a69cbd3-bcfc-4431-d2fb-1ac020cbd707"
      },
      "execution_count": 57,
      "outputs": [
        {
          "output_type": "stream",
          "name": "stdout",
          "text": [
            "75.81% de 186 palavras\n"
          ]
        }
      ]
    },
    {
      "cell_type": "markdown",
      "source": [
        "# **Caso de letras invertidas**"
      ],
      "metadata": {
        "id": "fnEfql5nvyjn"
      }
    },
    {
      "cell_type": "code",
      "source": [
        "def inverte_letra(fatias):\n",
        "  novas_palavras  = []\n",
        "  for E, D in fatias:\n",
        "    if len(D) > 1: #Precisaremos de no mínimo duas letras na segunda fatia\n",
        "      novas_palavras.append(E + D[1] + D[0] + D[2:]) #Inverte as duas primeiras letras do lado direito\n",
        "  return novas_palavras"
      ],
      "metadata": {
        "id": "T0W8Aod_vbJu"
      },
      "execution_count": 62,
      "outputs": []
    },
    {
      "cell_type": "code",
      "source": [
        "def gerador_palavras(palavra):\n",
        "  fatias = []\n",
        "  for i in range(len(palavra) + 1):\n",
        "    fatias.append((palavra[:i],palavra[i:]))\n",
        "  palavras_geradas = insere_letras(fatias)\n",
        "  palavras_geradas += deletando_caracteres(fatias) #concatenando as listas\n",
        "  palavras_geradas += troca_letra(fatias) \n",
        "  palavras_geradas += inverte_letra(fatias)\n",
        "  return palavras_geradas"
      ],
      "metadata": {
        "id": "COsXS1cnxlZm"
      },
      "execution_count": 63,
      "outputs": []
    },
    {
      "cell_type": "code",
      "source": [
        "corretor('lgóica')"
      ],
      "metadata": {
        "colab": {
          "base_uri": "https://localhost:8080/",
          "height": 35
        },
        "id": "1Fx1yby2xvXz",
        "outputId": "b136b1db-3703-4ca2-afee-4cc690284f0a"
      },
      "execution_count": 64,
      "outputs": [
        {
          "output_type": "execute_result",
          "data": {
            "text/plain": [
              "'lógica'"
            ],
            "application/vnd.google.colaboratory.intrinsic+json": {
              "type": "string"
            }
          },
          "metadata": {},
          "execution_count": 64
        }
      ]
    },
    {
      "cell_type": "code",
      "source": [
        "avaliador(lista_teste)"
      ],
      "metadata": {
        "colab": {
          "base_uri": "https://localhost:8080/"
        },
        "id": "mGkVpbnhx4dv",
        "outputId": "78a93397-f826-4aac-cbf6-b8b99eebe404"
      },
      "execution_count": 65,
      "outputs": [
        {
          "output_type": "stream",
          "name": "stdout",
          "text": [
            "75.81% de 186 palavras\n"
          ]
        }
      ]
    },
    {
      "cell_type": "markdown",
      "source": [
        "# **Palavras desconhecidas ao vocabulário**"
      ],
      "metadata": {
        "id": "ZsfgpxqZ1NCV"
      }
    },
    {
      "cell_type": "code",
      "source": [
        "def avaliador(testes, vocabulario): #Acrescenta o vocabulario\n",
        "  numero_palavras = len(testes)\n",
        "  acertou = 0\n",
        "  desconhecida = 0 #inicio da contagem\n",
        "  for correta, errada in testes:\n",
        "    palavra_corrigida = corretor(errada)\n",
        "    if palavra_corrigida == correta:\n",
        "      acertou += 1\n",
        "    else: #acrescenta a condição\n",
        "      desconhecida += (correta not in vocabulario) \n",
        "  taxa_acerto = acertou*100/numero_palavras\n",
        "  taxa_desconhecida = desconhecida*100/numero_palavras\n",
        "  print(f'{round(taxa_acerto, 2)}% de {numero_palavras} palavras, taxa de palavras desconhecidas é da {round(taxa_desconhecida, 2)}% das palavras normalizadas')\n",
        "\n",
        "\n",
        "vocabulario = set(lista_normalizada)\n",
        "avaliador(lista_teste, vocabulario)"
      ],
      "metadata": {
        "colab": {
          "base_uri": "https://localhost:8080/"
        },
        "id": "4Y_9NAiK1UTT",
        "outputId": "06c5a431-8c2e-46f3-d2bf-43309581bbba"
      },
      "execution_count": 78,
      "outputs": [
        {
          "output_type": "stream",
          "name": "stdout",
          "text": [
            "75.81% de 186 palavras, taxa de palavras desconhecidas é da 8.06% das palavras normalizadas\n"
          ]
        }
      ]
    },
    {
      "cell_type": "markdown",
      "source": [
        "# **Casos que se encaixam em mais de uma situação**"
      ],
      "metadata": {
        "id": "iUT3aWeA3ZXA"
      }
    },
    {
      "cell_type": "code",
      "source": [
        "def gerador_turbinado(palavras_geradas):\n",
        "  novas_palavras = []\n",
        "  for palavra in palavras_geradas:\n",
        "    novas_palavras += gerador_palavras(palavra) \n",
        "  return novas_palavras"
      ],
      "metadata": {
        "id": "mdod5ObG3ktS"
      },
      "execution_count": 70,
      "outputs": []
    },
    {
      "cell_type": "code",
      "source": [
        "palavra = 'lóiigica' \n",
        "palavras_g = gerador_turbinado(gerador_palavras(palavra))\n",
        "'lógica' in palavras_g #Verifica se a palavra 'lógica' está nas palavras geradas com a nova palavra teste "
      ],
      "metadata": {
        "colab": {
          "base_uri": "https://localhost:8080/"
        },
        "id": "eP3rRje34GPH",
        "outputId": "a5aeeb73-640a-4ff9-a27e-52c85a19cb35"
      },
      "execution_count": 72,
      "outputs": [
        {
          "output_type": "execute_result",
          "data": {
            "text/plain": [
              "True"
            ]
          },
          "metadata": {},
          "execution_count": 72
        }
      ]
    },
    {
      "cell_type": "markdown",
      "source": [
        "# **Diminuindo o número de candidatos**"
      ],
      "metadata": {
        "id": "cXLbjYtA5Ovp"
      }
    },
    {
      "cell_type": "code",
      "source": [
        "len(palavras_g)"
      ],
      "metadata": {
        "colab": {
          "base_uri": "https://localhost:8080/"
        },
        "id": "r5e1z1gQ440B",
        "outputId": "c43e7d75-9b02-470d-879d-cdca598aa27e"
      },
      "execution_count": 73,
      "outputs": [
        {
          "output_type": "execute_result",
          "data": {
            "text/plain": [
              "691744"
            ]
          },
          "metadata": {},
          "execution_count": 73
        }
      ]
    },
    {
      "cell_type": "code",
      "source": [
        "from random import vonmisesvariate\n",
        "def novo_corretor(palavra):\n",
        "  palavras_geradas = gerador_palavras(palavra)\n",
        "  palavras_geradas_turbinado = gerador_turbinado(palavras_geradas)\n",
        "  todas_palavras = set(palavras_geradas + palavras_geradas_turbinado)\n",
        "  candidatos = [palavra]\n",
        "  for palavra in todas_palavras:\n",
        "    if palavra in vocabulario:\n",
        "      candidatos.append(palavra)\n",
        "  palavra_correta = max(candidatos, key = probabilidade)\n",
        "  return palavra_correta"
      ],
      "metadata": {
        "id": "cIaC5Qts5Gat"
      },
      "execution_count": 82,
      "outputs": []
    },
    {
      "cell_type": "code",
      "source": [
        "palavra = 'lóiigica'\n",
        "novo_corretor(palavra)"
      ],
      "metadata": {
        "colab": {
          "base_uri": "https://localhost:8080/",
          "height": 35
        },
        "id": "u0-gT1lA7qnI",
        "outputId": "14b53bbe-1baf-4ec4-a3a3-b6d771ed97b0"
      },
      "execution_count": 87,
      "outputs": [
        {
          "output_type": "execute_result",
          "data": {
            "text/plain": [
              "'lógica'"
            ],
            "application/vnd.google.colaboratory.intrinsic+json": {
              "type": "string"
            }
          },
          "metadata": {},
          "execution_count": 87
        }
      ]
    },
    {
      "cell_type": "markdown",
      "source": [
        "# **Avaliando o melhor corretor**"
      ],
      "metadata": {
        "id": "rz17c82I9geD"
      }
    },
    {
      "cell_type": "code",
      "source": [
        "def avaliador(testes, vocabulario): #Acrescenta o vocabulario\n",
        "  numero_palavras = len(testes)\n",
        "  acertou = 0\n",
        "  desconhecida = 0 #inicio da contagem\n",
        "  for correta, errada in testes:\n",
        "    palavra_corrigida = novo_corretor(errada)\n",
        "    desconhecida += (correta not in vocabulario) #Coloca antes do if, porque as palavras desconhecidas independe das palavras desconhecidas\n",
        "    if palavra_corrigida == correta:\n",
        "      acertou += 1 \n",
        "  taxa_acerto = acertou*100/numero_palavras\n",
        "  taxa_desconhecida = desconhecida*100/numero_palavras\n",
        "  print(f'{round(taxa_acerto, 2)}% de {numero_palavras} palavras, taxa de palavras desconhecidas é da {round(taxa_desconhecida, 2)}% das palavras normalizadas')\n",
        "\n",
        "\n",
        "vocabulario = set(lista_normalizada)\n",
        "avaliador(lista_teste, vocabulario)"
      ],
      "metadata": {
        "colab": {
          "base_uri": "https://localhost:8080/"
        },
        "id": "P7Sp7tVB7wUe",
        "outputId": "5fdd049b-b8f2-432f-d855-df24fecdf335"
      },
      "execution_count": 89,
      "outputs": [
        {
          "output_type": "stream",
          "name": "stdout",
          "text": [
            "55.38% de 186 palavras, taxa de palavras desconhecidas é da 8.06% das palavras normalizadas\n"
          ]
        }
      ]
    },
    {
      "cell_type": "markdown",
      "source": [
        "**Avaliando o resultado**"
      ],
      "metadata": {
        "id": "8dzriILj_ZxP"
      }
    },
    {
      "cell_type": "code",
      "source": [
        "def avaliador(testes, vocabulario): \n",
        "  numero_palavras = len(testes)\n",
        "  acertou = 0\n",
        "  desconhecida = 0 \n",
        "  for correta, errada in testes:\n",
        "    palavra_corrigida = novo_corretor(errada)\n",
        "    desconhecida += (correta not in vocabulario) \n",
        "    if palavra_corrigida == correta:\n",
        "      acertou += 1 \n",
        "    #Printando alguns resultados\n",
        "    else:\n",
        "      print(errada + '-' + corretor(errada) + '-' + palavra_corrigida)\n",
        "  taxa_acerto = acertou*100/numero_palavras\n",
        "  taxa_desconhecida = desconhecida*100/numero_palavras\n",
        "  print(f'{round(taxa_acerto, 2)}% de {numero_palavras} palavras, taxa de palavras desconhecidas é da {round(taxa_desconhecida, 2)}% das palavras normalizadas')\n",
        "\n",
        "\n",
        "vocabulario = set(lista_normalizada)\n",
        "avaliador(lista_teste, vocabulario)"
      ],
      "metadata": {
        "colab": {
          "base_uri": "https://localhost:8080/"
        },
        "id": "ncYcJIFU-ij8",
        "outputId": "61d766e2-4a64-4615-dbde-0b5a8d67465d"
      },
      "execution_count": 90,
      "outputs": [
        {
          "output_type": "stream",
          "name": "stdout",
          "text": [
            "esje- esse-se\n",
            "sãêo- são-não\n",
            "dosa- dos-do\n",
            "eme- em-de\n",
            "eàssa- essa-esse\n",
            "daõs- das-da\n",
            "céda- cada-da\n",
            "noâ- no-o\n",
            "enêão- então-não\n",
            "tĩem- tem-em\n",
            "nossah- nossa-nosso\n",
            "teb- tem-de\n",
            "atĩ- até-a\n",
            "âem- em-de\n",
            "foo- foi-o\n",
            "serr- ser-se\n",
            "entke- entre-então\n",
            "van- vai-a\n",
            "çeus- seus-seu\n",
            "eû- e-de\n",
            "temeo- tempo-temos\n",
            "semre- sempre-ser\n",
            "elaá- ela-ele\n",
            "síó- só-se\n",
            "siàe- site-se\n",
            "seém- sem-em\n",
            "peln- pelo-ele\n",
            "aléra- alura-agora\n",
            "tdia- dia-da\n",
            "jé- é-de\n",
            "sãô- são-não\n",
            "odos- dos-do\n",
            "siua- sua-seu\n",
            "elpe- ele-esse\n",
            "teos- temos-os\n",
            "eũsa- essa-esse\n",
            "vjmos- vamos-temos\n",
            "dms- dos-de\n",
            "cava- java-para\n",
            "ános- nos-no\n",
            "èaso- caso-as\n",
            "túem- tem-em\n",
            "daáos- dados-dos\n",
            "nossk- nosso-nosso\n",
            "tãer- ter-ser\n",
            "vté- até-é\n",
            "búm- bem-um\n",
            "sçerá- será-ser\n",
            "entró- entre-então\n",
            "uai- vai-a\n",
            "sâus- seus-seu\n",
            "ìeu- seu-de\n",
            "fual- qual-sua\n",
            "elal- ela-ele\n",
            "skó- só-se\n",
            "secm- sem-em\n",
            "aluéa- alura-além\n",
            "dil- dia-de\n",
            "sód- só-se\n",
            "eúaa- aeúaa-essa\n",
            "ró- só-de\n",
            "dĩaz- adĩaz-da\n",
            "correptor- corretor-correto\n",
            "trtica- tática-prática\n",
            "ewpoderamento- aewpoderamento-ewpoderamento\n",
            "cachoçro- acachoçro-cachoçro\n",
            "îgato- gato-fato\n",
            "cakvalo- acakvalo-cakvalo\n",
            "canelac- acanelac-janela\n",
            "tênisy- atênisy-tênisy\n",
            "anciosa- aanciosa-aciona\n",
            "ancciosa- aancciosa-ancciosa\n",
            "ansioa- aansioa-ensina\n",
            "asterístico- aasterístico-asterístico\n",
            "entertido- aentertido-entendido\n",
            "ritimo- ritmo-ótimo\n",
            "indiota- aindiota-indica\n",
            "tomare- tomar-tomar\n",
            "seje- seja-se\n",
            "provalecer- aprovalecer-prevaleceu\n",
            "esteje- esteja-este\n",
            "mindigo- amindigo-indico\n",
            "pertubar- apertubar-pertubar\n",
            "55.38% de 186 palavras, taxa de palavras desconhecidas é da 8.06% das palavras normalizadas\n"
          ]
        }
      ]
    },
    {
      "cell_type": "markdown",
      "source": [
        "Com a execução, veremos uma lista em que a primeira palavra é a errada, a segunda é a gerada pelo corretor antigo, e a terceira pelo nosso novo.\n",
        "\n",
        "Na primeira linha, teremos a palavra digitada equivocadamente esje, onde provavelmente a pessoa substituiu o “j” pelo “s”. Assim, gerou as palavras certas esse e se.\n",
        "\n",
        "Na terceira linha do resultado, teremos a palavra dosa onde digitaram um “a” a mais, pois está ao lado da tecla \"s\".\n",
        "\n",
        "Nosso corretor antigo fez a corrigiu para dos corretamente. Porém, o novo corretor corrige para do, o que está incorreto, pois novo_corretor gera ambos os resultados.\n",
        "\n",
        "Porém, do aparece muito mais vezes do que a palavra dos. Como dependemos dessa máxima probabilidade, a função exibirá o termo que possui uma maior chance de estar correta, mesmo que a outra palavra também seja uma possibilidade correta.\n",
        "\n",
        "Muitas vezes nossos erros de digitação estão apenas a uma distância da palavra equivocada, ou seja, é mais comum esquecermos de digitar ou trocarmos uma única letra."
      ],
      "metadata": {
        "id": "vbVu81MDAMN9"
      }
    },
    {
      "cell_type": "code",
      "source": [
        "def avaliador(testes, vocabulario):\n",
        "    numero_palavras = len(testes)\n",
        "    acertou = 0\n",
        "    desconhecida = 0\n",
        "    for correta, errada in testes:\n",
        "        palavra_corrigida = corretor(errada)\n",
        "        desconhecida += (correta not in vocabulario)\n",
        "        if palavra_corrigida == correta:\n",
        "            acertou += 1\n",
        "    taxa_acerto = round(acertou*100/numero_palavras, 2)\n",
        "    taxa_desconhecida = round(desconhecida*100/numero_palavras, 2)\n",
        "    print(f\"{taxa_acerto}% de {numero_palavras} palavras, desconhecidas {taxa_desconhecida}%\")\n",
        "\n",
        "vocabulario = set(lista_normalizada)\n",
        "avaliador(lista_teste, vocabulario)"
      ],
      "metadata": {
        "colab": {
          "base_uri": "https://localhost:8080/"
        },
        "id": "P44gnX-T_6jI",
        "outputId": "19b06384-4ef7-4e45-daf0-319e3df2118a"
      },
      "execution_count": 91,
      "outputs": [
        {
          "output_type": "stream",
          "name": "stdout",
          "text": [
            "75.81% de 186 palavras, desconhecidas 8.06%\n"
          ]
        }
      ]
    },
    {
      "cell_type": "code",
      "source": [
        "palavra = 'lgica'\n",
        "print(f'Resultado do segundo corretor: {novo_corretor(palavra)}')\n",
        "print(f'Resultado do primeiro corretor: {corretor(palavra)}')"
      ],
      "metadata": {
        "colab": {
          "base_uri": "https://localhost:8080/"
        },
        "id": "r19UTfcYA9Pi",
        "outputId": "e36bf0a3-d7c4-453b-cef5-1e9dad8f5413"
      },
      "execution_count": 97,
      "outputs": [
        {
          "output_type": "stream",
          "name": "stdout",
          "text": [
            "Resultado do segundo corretor: fica\n",
            "Resultado do primeiro corretor: lógica\n"
          ]
        }
      ]
    },
    {
      "cell_type": "code",
      "source": [],
      "metadata": {
        "id": "K7G19NA8BQmE"
      },
      "execution_count": null,
      "outputs": []
    }
  ]
}